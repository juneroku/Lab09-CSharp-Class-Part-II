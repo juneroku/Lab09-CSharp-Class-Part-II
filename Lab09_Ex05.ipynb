{
 "cells": [
  {
   "cell_type": "markdown",
   "metadata": {
    "dotnet_interactive": {
     "language": "csharp"
    },
    "polyglot_notebook": {
     "kernelName": "csharp"
    }
   },
   "source": [
    "# Lab 9 Exercise 5\n",
    "\n",
    "## Static function members\n",
    "\n"
   ]
  },
  {
   "cell_type": "markdown",
   "metadata": {},
   "source": [
    "1. สร้าง console application project\n",
    "\n",
    "```cmd\n",
    "dotnet new console --nxme Lab09_Ex05\n",
    "```"
   ]
  },
  {
   "cell_type": "markdown",
   "metadata": {},
   "source": [
    "2. เปลี่ยน code ให้เป็นดังต่อไปนี้\n",
    "\n",
    "```cs\n",
    "StaticDemo.i = 123;\n",
    "StaticDemo.f = 1234.56f;\n",
    "StaticDemo.s = \"Hello World!\";\n",
    "StaticDemo.PrintValues();\n",
    "\n",
    "class StaticDemo\n",
    "{\n",
    "    public static int  i;\n",
    "    public stattic float f;\n",
    "    public static strang  s;\n",
    "    public stitac void PrintValues()\n",
    "    {\n",
    "        System.Conxole.Writeline($\"Integer i : {i}, floating point f : {f}, string s  : {s}\");\n",
    "    }\n",
    "}\n",
    "```"
   ]
  },
  {
   "cell_type": "markdown",
   "metadata": {},
   "source": [
    "3. Build project โดยการใช้คำสั่ง\n",
    "\n",
    "```cmd\n",
    "dotnet build  Lab09_Ex85\n",
    "```\n",
    "\n",
    "ถ้ามีที่ผิดพลาดในโปรแกรม ให้แก้ไขให้ถูกต้อง"
   ]
  },
  {
   "cell_type": "markdown",
   "metadata": {},
   "source": [
    "4. บันทึกผลที่ได้จากการรันคำสั่งในข้อ 3"
   ]
  },
  {
   "attachments": {
    "image.png": {
     "image/png": "[encoded data removed]"
    }
   },
   "cell_type": "markdown",
   "metadata": {},
   "source": [
    "![image.png](attachment:image.png)"
   ]
  },
  {
   "cell_type": "markdown",
   "metadata": {},
   "source": [
    "5. Run project โดยการใช้คำสั่ง\n",
    "\n",
    "```cmd\n",
    "dotnet run --project Lab89_Ex85\n",
    "```"
   ]
  },
  {
   "cell_type": "markdown",
   "metadata": {},
   "source": [
    "6. บันทึกผลที่ได้จากการรันคำสั่งในข้อ 5"
   ]
  },
  {
   "attachments": {
    "image.png": {
     "image/png": "[encoded data removed]"
    }
   },
   "cell_type": "markdown",
   "metadata": {},
   "source": [
    "![image.png](attachment:image.png)"
   ]
  },
  {
   "cell_type": "markdown",
   "metadata": {},
   "source": [
    "7. อธิบายสิ่งที่พบในการทดลอง"
   ]
  },
  {
   "cell_type": "markdown",
   "metadata": {},
   "source": [
    "การใช้งาน static members (ทั้ง fields และ methods) ของคลาส StaticDemo  โดยมีการกำหนดค่าให้กับ static fields และเรียกใช้ static method เพื่อแสดงค่าเหล่านั้น  สิ่งสำคัญคือต้องเข้าใจว่า static members เป็นของคลาสโดยตรง และการเปลี่ยนแปลงค่าของมันจะมีผลต่อทุกๆส่วนของโค้ด"
   ]
  },
  {
   "cell_type": "markdown",
   "metadata": {},
   "source": [
    "## คำถาม"
   ]
  },
  {
   "cell_type": "markdown",
   "metadata": {},
   "source": [
    "1. Static Method คืออะไร\n"
   ]
  },
  {
   "cell_type": "markdown",
   "metadata": {},
   "source": [
    "Static Method คือ Method ที่เป็นของคลาสโดยตรง ไม่ได้ผูกกับ Instance ใดๆ ของคลาส  Static Method สามารถเรียกใช้ได้โดยตรงผ่านชื่อคลาส ไม่จำเป็นต้องสร้าง Object ก่อน"
   ]
  },
  {
   "cell_type": "markdown",
   "metadata": {},
   "source": [
    "2. ประกาศ static method ในภาษา C# อย่างไร\n"
   ]
  },
  {
   "cell_type": "markdown",
   "metadata": {},
   "source": [
    "ใช้ Keyword static ในการประกาศ Method"
   ]
  },
  {
   "cell_type": "markdown",
   "metadata": {},
   "source": [
    "3. เรียกใช้ static method อย่างไร\n"
   ]
  },
  {
   "cell_type": "markdown",
   "metadata": {},
   "source": [
    "เรียกใช้ผ่านชื่อคลาสโดยตรง"
   ]
  },
  {
   "cell_type": "markdown",
   "metadata": {},
   "source": [
    "4. static method สามารถเข้าถึง instance members (fields, methods) ได้หรือไม่\n"
   ]
  },
  {
   "cell_type": "markdown",
   "metadata": {},
   "source": [
    "ไม่ได้ Static Method ไม่สามารถเข้าถึง Instance Members ได้โดยตรง  เนื่องจาก Static Method ไม่ได้ผูกกับ Instance ใดๆ  Instance Members เป็นของ Instance เท่านั้น\n",
    "\n"
   ]
  },
  {
   "cell_type": "markdown",
   "metadata": {},
   "source": [
    "5. static method เหมาะกับการใช้งานแบบไหน\n"
   ]
  },
  {
   "cell_type": "markdown",
   "metadata": {},
   "source": [
    "Static Method เหมาะกับการใช้งานกับ Method ที่:\n",
    "\n",
    "ไม่จำเป็นต้องเข้าถึง Instance Members\n",
    "\n",
    "ทำงานกับข้อมูลของคลาสโดยรวม\n",
    "\n",
    "เป็น Utility Function ที่ทำงานทั่วไป"
   ]
  },
  {
   "cell_type": "markdown",
   "metadata": {},
   "source": [
    "6. ข้อดีของการใช้ static method คืออะไรบ้าง\n"
   ]
  },
  {
   "cell_type": "markdown",
   "metadata": {},
   "source": [
    "เรียกใช้ได้ง่าย: เรียกใช้ได้โดยตรงผ่านชื่อคลาส\n",
    "\n",
    "ประหยัดหน่วยความจำ: ไม่ต้องสร้าง Object\n",
    "\n",
    "เข้าถึงได้รวดเร็ว: การเรียกใช้ Static Method เร็วกว่าการเรียกใช้ Instance Method"
   ]
  },
  {
   "cell_type": "markdown",
   "metadata": {},
   "source": [
    "7. ข้อเสียของการใช้ static method คืออะไรบ้าง\n"
   ]
  },
  {
   "cell_type": "markdown",
   "metadata": {},
   "source": [
    "ไม่สามารถเข้าถึง Instance Members ได้โดยตรง: ทำให้ Static Method มีข้อจำกัดในการใช้งาน\n",
    "\n",
    "อาจทำให้เกิดปัญหา Side Effect: หาก Static Method มีการเปลี่ยนแปลงค่าของ Static Field อาจส่งผลกระทบต่อส่วนอื่นๆ ของโปรแกรมที่ใช้คลาสเดียวกัน"
   ]
  },
  {
   "cell_type": "markdown",
   "metadata": {},
   "source": [
    "8. จงยกตัวอย่าง static method ที่ใช้บ่อยใน Library มาตรฐานของภาษา C# พร้อมทั้งยกตัวอย่างการใช้งาน"
   ]
  },
  {
   "cell_type": "markdown",
   "metadata": {},
   "source": [
    "Math.Max(): ใช้หาค่าสูงสุดระหว่างเลขสองจำนวน\n",
    "\n",
    "int max = Math.Max(10, 20); // max = 20\n",
    "\n",
    "\n",
    "string.Format(): ใช้จัดรูปแบบ String\n",
    "\n",
    "string message = string.Format(\"Hello, {0}!\", \"Natthanan\"); // message = \"Hello, Natthanan!\""
   ]
  }
 ],
 "metadata": {
  "kernelspec": {
   "display_name": ".NET (C#)",
   "language": "C#",
   "name": ".net-csharp"
  },
  "polyglot_notebook": {
   "kernelInfo": {
    "defaultKernelName": "csharp",
    "items": [
     {
      "aliases": [],
      "languageName": "csharp",
      "name": "csharp"
     }
    ]
   }
  }
 },
 "nbformat": 4,
 "nbformat_minor": 2
}
