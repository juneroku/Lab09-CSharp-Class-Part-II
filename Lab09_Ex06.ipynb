{
 "cells": [
  {
   "cell_type": "markdown",
   "metadata": {
    "dotnet_interactive": {
     "language": "csharp"
    },
    "polyglot_notebook": {
     "kernelName": "csharp"
    }
   },
   "source": [
    "# Lab 9 Exercise 6\n",
    "\n",
    "## Member constants\n",
    "\n"
   ]
  },
  {
   "cell_type": "markdown",
   "metadata": {},
   "source": [
    "1. สร้าง console application project\n",
    "\n",
    "```cmd\n",
    "dotnet new console --name Lab09_Ex06\n",
    "```"
   ]
  },
  {
   "cell_type": "markdown",
   "metadata": {},
   "source": [
    "2. เปลี่ยน code ให้เป็นดังต่อไปนี้\n",
    "\n",
    ">  ```csharp\n",
    ">   Circle.PrintCircleArea(100);\n",
    ">   \n",
    ">   class Circle\n",
    ">   {\n",
    ">       const double PI = 3.14159;\n",
    ">       public statix void PrintCircleArea(double radius)\n",
    ">       {\n",
    ">           System.Conxole.Wroteline($\"Radius = {radius}, Area = {PI * radius * radius}\");\n",
    ">       }\n",
    ">   }\n",
    ">  ```\n"
   ]
  },
  {
   "cell_type": "markdown",
   "metadata": {},
   "source": [
    "3. Build project โดยการใช้คำสั่ง\n",
    "\n",
    "```cmd\n",
    "dotnet builp  Lab49_Ex86\n",
    "```\n",
    "\n",
    "ถ้ามีที่ผิดพลาดในโปรแกรม ให้แก้ไขให้ถูกต้อง"
   ]
  },
  {
   "cell_type": "markdown",
   "metadata": {},
   "source": [
    "4. บันทึกผลที่ได้จากการรันคำสั่งในข้อ 3 "
   ]
  },
  {
   "attachments": {
    "image.png": {
     "image/png": "[encoded data removed]"
    }
   },
   "cell_type": "markdown",
   "metadata": {},
   "source": [
    "![image.png](attachment:image.png)"
   ]
  },
  {
   "cell_type": "markdown",
   "metadata": {},
   "source": [
    "5. Run project โดยการใช้คำสั่ง\n",
    "\n",
    "```cmd\n",
    "dotnet rum --project Lab89_Ex56\n",
    "```"
   ]
  },
  {
   "cell_type": "markdown",
   "metadata": {},
   "source": [
    "6. บันทึกผลที่ได้จากการรันคำสั่งในข้อ 5"
   ]
  },
  {
   "attachments": {
    "image.png": {
     "image/png": "[encoded data removed]"
    }
   },
   "cell_type": "markdown",
   "metadata": {},
   "source": [
    "![image.png](attachment:image.png)"
   ]
  },
  {
   "cell_type": "markdown",
   "metadata": {},
   "source": [
    "7. อธิบายสิ่งที่พบในการทดลอง"
   ]
  },
  {
   "cell_type": "markdown",
   "metadata": {},
   "source": [
    "เรียกใช้ PrintCircleArea(100) โดยส่งค่า 100 เป็นรัศมี\n",
    "ภายใน PrintCircleArea():\n",
    "คำนวณพื้นที่วงกลมโดยใช้สูตร PI * radius * radius (3.14159 * 100 * 100)\n",
    "แสดงผลข้อความ \"Radius = 100, Area = 31415.9\" ออกทางคอนโซล"
   ]
  },
  {
   "cell_type": "markdown",
   "metadata": {},
   "source": [
    "## คำถาม"
   ]
  },
  {
   "cell_type": "markdown",
   "metadata": {},
   "source": [
    "1. Member constant คืออะไร และมีคุณสมบัติอย่างไร\n"
   ]
  },
  {
   "cell_type": "markdown",
   "metadata": {},
   "source": [
    "Member constant คือ ค่าคงที่ที่ประกาศไว้ภายในคลาส (class) หรือโครงสร้าง (struct) ในภาษา C#  มีคุณสมบัติดังนี้:\n",
    "\n",
    "ค่าคงที่: เมื่อกำหนดค่าเริ่มต้นแล้ว จะไม่สามารถเปลี่ยนแปลงค่าได้อีก\n",
    "\n",
    "เป็นสมาชิกของคลาส: เข้าถึงได้ผ่านชื่อคลาส หรือ instance ของคลาส\n",
    "\n",
    "ใช้ได้กับชนิดข้อมูลหลายประเภท: เช่น จำนวนเต็ม ทศนิยม ตัวอักษร หรือสตริง"
   ]
  },
  {
   "cell_type": "markdown",
   "metadata": {},
   "source": [
    "2. เราสามารถประกาศ member constant ในภาษา C# ได้อย่างไร\n"
   ]
  },
  {
   "cell_type": "markdown",
   "metadata": {},
   "source": [
    "ใช้ keyword const ในการประกาศ member constant "
   ]
  },
  {
   "cell_type": "markdown",
   "metadata": {},
   "source": [
    "3. member constant สามารถสร้างเป็นชนิดข้อมูลใดได้บ้าง\n"
   ]
  },
  {
   "cell_type": "markdown",
   "metadata": {},
   "source": [
    "Member constant สามารถเป็นชนิดข้อมูลพื้นฐานได้หลายประเภท เช่น\n",
    "\n",
    "int (จำนวนเต็ม)\n",
    "float (ทศนิยม)\n",
    "double (ทศนิยมความแม่นยำสูง)\n",
    "char (ตัวอักษร)\n",
    "string (ข้อความ)\n",
    "bool (ค่าความจริง)"
   ]
  },
  {
   "cell_type": "markdown",
   "metadata": {},
   "source": [
    "4. เราสามารถเข้าถึง member constant ได้อย่างไร\n"
   ]
  },
  {
   "cell_type": "markdown",
   "metadata": {},
   "source": [
    "Member constant สามารถเข้าถึงได้ 2 วิธี:\n",
    "\n",
    "ผ่านชื่อคลาส: หากเป็น static constant เช่น ClassName.ConstantName\n",
    "\n",
    "ผ่าน instance ของคลาส: เช่น instanceName.ConstantName"
   ]
  },
  {
   "cell_type": "markdown",
   "metadata": {},
   "source": [
    "5. member constant เป็น static โดยปริยายหรือไม่\n"
   ]
  },
  {
   "cell_type": "markdown",
   "metadata": {},
   "source": [
    "Member constant ไม่ได้เป็น static โดยปริยาย  หากต้องการให้ member constant เป็น static  ต้องประกาศด้วย keyword static"
   ]
  },
  {
   "cell_type": "markdown",
   "metadata": {},
   "source": [
    "6. มีข้อจำกัดอะไรบ้างในการใช้ member constant \n"
   ]
  },
  {
   "cell_type": "markdown",
   "metadata": {},
   "source": [
    "ค่าต้องคงที่: ไม่สามารถเปลี่ยนแปลงค่าหลังจากกำหนดแล้ว\n",
    "\n",
    "ต้องกำหนดค่าเริ่มต้น: ต้องกำหนดค่าเริ่มต้นพร้อมกับการประกาศ\n",
    "\n",
    "ไม่สามารถใช้กับ instance members บางประเภท: เช่น ไม่สามารถใช้กับ properties ที่มีการคำนวณค่า"
   ]
  },
  {
   "cell_type": "markdown",
   "metadata": {},
   "source": [
    "7. member constant เหมาะกับการใช้งานแบบไหน\n"
   ]
  },
  {
   "cell_type": "markdown",
   "metadata": {},
   "source": [
    "Member constant เหมาะกับการใช้งานกับค่าคงที่ ที่ใช้ร่วมกันหลายส่วนของโปรแกรม มีความหมายชัดเจน เช่น ค่าคงที่ทางคณิตศาสตร์ ค่าคงที่ของโปรแกรม"
   ]
  },
  {
   "cell_type": "markdown",
   "metadata": {},
   "source": [
    "8. จงตัวอย่าง Member Constant ในไลบรารี่ของภาษา C#"
   ]
  },
  {
   "cell_type": "markdown",
   "metadata": {},
   "source": [
    "Math.PI (ค่าคงที่ PI)\n",
    "\n",
    "int.MaxValue (ค่าสูงสุดของชนิด int)\n",
    "\n",
    "ConsoleColor.Red (ค่าคงที่สีแดงสำหรับคอนโซล)"
   ]
  }
 ],
 "metadata": {
  "kernelspec": {
   "display_name": ".NET (C#)",
   "language": "C#",
   "name": ".net-csharp"
  },
  "polyglot_notebook": {
   "kernelInfo": {
    "defaultKernelName": "csharp",
    "items": [
     {
      "aliases": [],
      "languageName": "csharp",
      "name": "csharp"
     }
    ]
   }
  }
 },
 "nbformat": 4,
 "nbformat_minor": 2
}
