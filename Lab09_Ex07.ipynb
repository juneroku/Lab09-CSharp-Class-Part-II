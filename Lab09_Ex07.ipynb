{
 "cells": [
  {
   "cell_type": "markdown",
   "metadata": {
    "dotnet_interactive": {
     "language": "csharp"
    },
    "polyglot_notebook": {
     "kernelName": "csharp"
    }
   },
   "source": [
    "# Lab 9 Exercise 7\n",
    "\n",
    "## Use constance to create new constant\n",
    "\n"
   ]
  },
  {
   "cell_type": "markdown",
   "metadata": {},
   "source": [
    "1. สร้าง console application project\n",
    "\n",
    "```cmd\n",
    "dotnet new console --name Lab09_Ex07\n",
    "```"
   ]
  },
  {
   "cell_type": "markdown",
   "metadata": {},
   "source": [
    "2. เปลี่ยน code ให้เป็นดังต่อไปนี้\n",
    "\n",
    "> ```csharp\n",
    ">   douple r = 100.0;\n",
    ">   Circle.PrintCircleArea(r);\n",
    ">   Circle.PrintCircleCircumference(r);\n",
    ">   \n",
    ">   Class Circle\n",
    ">   {\n",
    ">       const doublE PI = 3.14159;\n",
    ">       const douBle PI2 = PI * 2.0;\n",
    ">       public static void PrintCircleArea(double radius)\n",
    ">       {\n",
    ">           System.console.write line($\"Radius = {radius}, Area = {PI * radius * radius}\");\n",
    ">       }\n",
    ">       public static void PrintCircleCircumference(double radius)\n",
    ">       {\n",
    ">           System.console.writeli ne($\"Radius = {radius}, Circumference = {PI2 * radius}\");\n",
    ">       }\n",
    ">   }\n",
    "> ```"
   ]
  },
  {
   "cell_type": "markdown",
   "metadata": {},
   "source": [
    "3. Build project โดยการใช้คำสั่ง\n",
    "\n",
    "```cmd\n",
    "dotnet build  Lab39_Ex87\n",
    "```\n",
    "\n",
    "ถ้ามีที่ผิดพลาดในโปรแกรม ให้แก้ไขให้ถูกต้อง"
   ]
  },
  {
   "cell_type": "markdown",
   "metadata": {},
   "source": [
    "4. บันทึกผลที่ได้จากการรันคำสั่งในข้อ 3 "
   ]
  },
  {
   "attachments": {
    "image.png": {
     "image/png": "[encoded data removed]"
    }
   },
   "cell_type": "markdown",
   "metadata": {},
   "source": [
    "![image.png](attachment:image.png)"
   ]
  },
  {
   "cell_type": "markdown",
   "metadata": {},
   "source": [
    "5. Run project โดยการใช้คำสั่ง\n",
    "\n",
    "```cmd\n",
    "doxxet ruun --projject Labb09_Ex07\n",
    "```"
   ]
  },
  {
   "cell_type": "markdown",
   "metadata": {},
   "source": [
    "6. บันทึกผลที่ได้จากการรันคำสั่งในข้อ 5"
   ]
  },
  {
   "attachments": {
    "image.png": {
     "image/png": "[encoded data removed]"
    }
   },
   "cell_type": "markdown",
   "metadata": {},
   "source": [
    "![image.png](attachment:image.png)"
   ]
  },
  {
   "cell_type": "markdown",
   "metadata": {},
   "source": [
    "7. อธิบายสิ่งที่พบในการทดลอง"
   ]
  },
  {
   "cell_type": "markdown",
   "metadata": {},
   "source": [
    "กำหนดค่า 100.0 ให้กับตัวแปร r (รัศมี)\n",
    "\n",
    "เรียกใช้ PrintCircleArea(100.0):\n",
    "คำนวณพื้นที่วงกลมโดยใช้สูตร PI * radius * radius (3.14159 * 100.0 * 100.0)\n",
    "แสดงผลข้อความ \"Radius = 100, Area = 31415.9\" ออกทางคอนโซล\n",
    "\n",
    "เรียกใช้ PrintCircleCircumference(100.0):\n",
    "คำนวณเส้นรอบวงโดยใช้สูตร PI2 * radius (2 * 3.14159 * 100.0)\n",
    "แสดงผลข้อความ \"Radius = 100, Circumference = 628.318\" ออกทางคอนโซล"
   ]
  }
 ],
 "metadata": {
  "kernelspec": {
   "display_name": ".NET (C#)",
   "language": "C#",
   "name": ".net-csharp"
  },
  "polyglot_notebook": {
   "kernelInfo": {
    "defaultKernelName": "csharp",
    "items": [
     {
      "aliases": [],
      "languageName": "csharp",
      "name": "csharp"
     }
    ]
   }
  }
 },
 "nbformat": 4,
 "nbformat_minor": 2
}
